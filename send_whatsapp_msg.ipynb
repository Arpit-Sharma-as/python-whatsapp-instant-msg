{
 "cells": [
  {
   "cell_type": "code",
   "execution_count": 3,
   "id": "d72a304e",
   "metadata": {},
   "outputs": [],
   "source": [
    "import pywhatkit as kit\n",
    "\n",
    "# Replace the phone_number with the recipient's phone number and message with your desired message.\n",
    "phone_number = \"+918813040675\"\n",
    "message = \"Hello, this is an instant WhatsApp message sent using pywhatkit!\"\n",
    "\n",
    "# Send the WhatsApp message instantly.\n",
    "kit.sendwhatmsg_instantly(phone_number, message , 10)"
   ]
  },
  {
   "cell_type": "markdown",
   "id": "78cfda06",
   "metadata": {},
   "source": [
    "Message Sent!"
   ]
  },
  {
   "cell_type": "code",
   "execution_count": null,
   "id": "2f5b3737",
   "metadata": {},
   "outputs": [],
   "source": []
  }
 ],
 "metadata": {
  "kernelspec": {
   "display_name": "Python 3 (ipykernel)",
   "language": "python",
   "name": "python3"
  },
  "language_info": {
   "codemirror_mode": {
    "name": "ipython",
    "version": 3
   },
   "file_extension": ".py",
   "mimetype": "text/x-python",
   "name": "python",
   "nbconvert_exporter": "python",
   "pygments_lexer": "ipython3",
   "version": "3.11.3"
  }
 },
 "nbformat": 4,
 "nbformat_minor": 5
}
